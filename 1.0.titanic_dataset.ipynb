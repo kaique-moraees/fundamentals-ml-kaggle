{
 "cells": [
  {
   "cell_type": "code",
   "execution_count": null,
   "id": "abcfc2f6-94f8-42c5-a0c3-60eae75368d3",
   "metadata": {},
   "outputs": [],
   "source": []
  }
 ],
 "metadata": {
  "kernelspec": {
   "display_name": "",
   "name": ""
  },
  "language_info": {
   "name": ""
  }
 },
 "nbformat": 4,
 "nbformat_minor": 5
}
